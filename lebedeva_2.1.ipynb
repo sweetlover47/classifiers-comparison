{
 "cells": [
  {
   "cell_type": "code",
   "execution_count": 1,
   "metadata": {
    "collapsed": true,
    "pycharm": {
     "is_executing": false
    }
   },
   "outputs": [],
   "source": [
    "import numpy as np\n",
    "import pandas as pd\n",
    "from sklearn.model_selection import GridSearchCV"
   ]
  },
  {
   "cell_type": "code",
   "execution_count": 14,
   "outputs": [],
   "source": [
    "df_train = pd.read_csv('train.csv', sep=';', header=None)\n",
    "feature_n = df_train.columns.size - 1\n",
    "object_n = df_train.index.size\n",
    "\n",
    "X = df_train.iloc[:, 0 : feature_n].values\n",
    "y = df_train.iloc[:, feature_n].values\n",
    "\n",
    "for i in range(feature_n):\n",
    "    x = X[:, i]\n",
    "    mi = np.min(x)\n",
    "    ma = np.max(x)\n",
    "    for j in range(object_n):\n",
    "        if ma - mi == 0:\n",
    "            x[j] = 0.5\n",
    "        else:\n",
    "            x[j] = (x[j] - mi) / (ma - mi)"
   ],
   "metadata": {
    "collapsed": false,
    "pycharm": {
     "name": "#%%\n",
     "is_executing": false
    }
   }
  },
  {
   "cell_type": "code",
   "execution_count": 44,
   "outputs": [],
   "source": [
    "# Ожидаю, что лучше всего себя покажет Дерево решений, так как этот классификатор меньше других восприимчив к шумовым данным.\n",
    "# Также KNN и SVM плохо показывают себя на больших датасетах, в частности KNN, который не любит и большое количество признаков.\n",
    "# Поэтому ожидаю, что SVM будет иметь результат лучше, чем KNN, так как этот метод хорошо работает с большим количеством признаков.\n",
    "# Также ожидаю, что SVM покажет результат хуже, чем DT:\n",
    "# Так как я строила график объектов, распределенных по классам. \n",
    "# И два класса были очень близко расположены, а значит SVM будет тяжело их отделить"
   ],
   "metadata": {
    "collapsed": false,
    "pycharm": {
     "name": "#%%\n",
     "is_executing": false
    }
   }
  },
  {
   "cell_type": "code",
   "execution_count": 15,
   "outputs": [
    {
     "name": "stdout",
     "text": [
      "{'metric': 'euclidean', 'n_neighbors': 26}\nKNeighborsClassifier(metric='euclidean', n_neighbors=26)\n0.7732142857142856\n"
     ],
     "output_type": "stream"
    }
   ],
   "source": [
    "# KNN\n",
    "from sklearn.neighbors import KNeighborsClassifier as KNN\n",
    "clf = KNN()\n",
    "params = {\n",
    "    'n_neighbors': range(1, 200), \n",
    "    'metric' : ['euclidean', 'cityblock'] \n",
    "}\n",
    "grid_searcher = GridSearchCV(clf, params)\n",
    "grid_searcher.fit(X, y)\n",
    "print(grid_searcher.best_params_)\n",
    "print(grid_searcher.best_estimator_)\n",
    "print(grid_searcher.best_score_)"
   ],
   "metadata": {
    "collapsed": false,
    "pycharm": {
     "name": "#%%\n",
     "is_executing": false
    }
   }
  },
  {
   "cell_type": "code",
   "execution_count": 43,
   "outputs": [
    {
     "name": "stdout",
     "text": [
      "{'criterion': 'entropy', 'max_depth': 3}\nDecisionTreeClassifier(criterion='entropy', max_depth=3)\n0.8928571428571429\n"
     ],
     "output_type": "stream"
    }
   ],
   "source": [
    "# Decision Tree\n",
    "\n",
    "from sklearn.tree import DecisionTreeClassifier\n",
    "params = { \n",
    "    'max_depth' : range(1, 10),\n",
    "    'criterion' : ['gini', 'entropy']\n",
    "}\n",
    "clf = DecisionTreeClassifier()\n",
    "grid_searcher = GridSearchCV(clf, params)\n",
    "grid_searcher.fit(X, y)\n",
    "print(grid_searcher.best_params_)\n",
    "print(grid_searcher.best_estimator_)\n",
    "print(grid_searcher.best_score_)"
   ],
   "metadata": {
    "collapsed": false,
    "pycharm": {
     "name": "#%%\n",
     "is_executing": false
    }
   }
  },
  {
   "cell_type": "code",
   "execution_count": 41,
   "outputs": [
    {
     "name": "stdout",
     "text": [
      "{'degree': 3, 'kernel': 'poly'}\nSVC(kernel='poly')\n0.85\n"
     ],
     "output_type": "stream"
    }
   ],
   "source": [
    "# SVM\n",
    "\n",
    "from sklearn import svm\n",
    "params = [\n",
    "    {\n",
    "        'kernel' : ['rbf', 'sigmoid'],\n",
    "        'C' : [1, 10, 100, 1000]\n",
    "    },\n",
    "    {\n",
    "        'kernel' : ['poly'],\n",
    "        'degree' : range(2, 6)\n",
    "    }\n",
    "]\n",
    "clf = svm.SVC()\n",
    "grid_searcher = GridSearchCV(clf, params)\n",
    "grid_searcher.fit(X, y)\n",
    "print(grid_searcher.best_params_)\n",
    "print(grid_searcher.best_estimator_)\n",
    "print(grid_searcher.best_score_)"
   ],
   "metadata": {
    "collapsed": false,
    "pycharm": {
     "name": "#%%\n",
     "is_executing": false
    }
   }
  }
 ],
 "metadata": {
  "language_info": {
   "codemirror_mode": {
    "name": "ipython",
    "version": 2
   },
   "file_extension": ".py",
   "mimetype": "text/x-python",
   "name": "python",
   "nbconvert_exporter": "python",
   "pygments_lexer": "ipython2",
   "version": "2.7.6"
  },
  "kernelspec": {
   "name": "python3",
   "language": "python",
   "display_name": "Python 3"
  },
  "pycharm": {
   "stem_cell": {
    "cell_type": "raw",
    "source": [],
    "metadata": {
     "collapsed": false
    }
   }
  }
 },
 "nbformat": 4,
 "nbformat_minor": 0
}