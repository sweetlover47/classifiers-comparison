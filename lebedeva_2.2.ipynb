{
 "cells": [
  {
   "cell_type": "code",
   "execution_count": 125,
   "metadata": {
    "collapsed": true,
    "pycharm": {
     "is_executing": false
    }
   },
   "outputs": [],
   "source": [
    "import numpy as np\n",
    "import pandas as pd\n",
    "import matplotlib.pyplot as plt\n",
    "\n",
    "from sklearn.model_selection import  train_test_split\n",
    "from sklearn.neighbors import LocalOutlierFactor\n",
    "from sklearn.svm import SVC\n",
    "from sklearn.feature_selection import RFECV\n",
    "from sklearn.metrics import accuracy_score"
   ]
  },
  {
   "cell_type": "code",
   "execution_count": 126,
   "outputs": [],
   "source": [
    "def is_outlier(_X):\n",
    "    return LocalOutlierFactor().fit_predict(_X)\n",
    "   \n",
    "def remove_outliers(_X, _y):\n",
    "    tmp = _X[_y == 1, :]\n",
    "    _X0 = tmp[is_outlier(tmp) == 1, :]\n",
    "    tmp = _X[_y == 2, :]\n",
    "    _X1 = tmp[is_outlier(tmp) == 1, :]\n",
    "    tmp = _X[_y == 3, :]\n",
    "    _X2 = tmp[is_outlier(tmp) == 1, :]\n",
    "    return _X0, _X1, _X2\n",
    "\n",
    "def select_features(clf, _X, _y):\n",
    "    rfecv = RFECV(estimator=clf, scoring='accuracy', cv=5)\n",
    "    rfecv.fit(_X, _y)\n",
    "    \n",
    "    print(\"Optimal number of features : %d\" % rfecv.n_features_)\n",
    "    # Plot number of features VS. cross-validation scores\n",
    "    plt.figure()\n",
    "    plt.xlabel(\"Number of features selected\")\n",
    "    plt.ylabel(\"Cross validation score (nb of correct classifications)\")\n",
    "    plt.plot(range(1, len(rfecv.grid_scores_) + 1), rfecv.grid_scores_)\n",
    "    plt.show()\n",
    "    \n",
    "    X_fe=_X[:, rfecv.ranking_ == 1]\n",
    "    print(X_fe.shape)\n",
    "    return X_fe, rfecv"
   ],
   "metadata": {
    "collapsed": false,
    "pycharm": {
     "name": "#%%\n",
     "is_executing": false
    }
   }
  },
  {
   "cell_type": "code",
   "execution_count": 127,
   "outputs": [
    {
     "name": "stdout",
     "text": [
      "(560, 432)\n",
      "(280, 432) (280, 432) (280,) (280,)\n"
     ],
     "output_type": "stream"
    }
   ],
   "source": [
    "df_train = pd.read_csv('train.csv', sep=';', header=None)\n",
    "feature_n = df_train.columns.size - 1\n",
    "object_n = df_train.index.size\n",
    "\n",
    "X = df_train.iloc[:, 0 : feature_n].values\n",
    "print(X.shape)\n",
    "y = df_train.iloc[:, feature_n].values\n",
    "for i in range(feature_n):\n",
    "    x = X[:, i]\n",
    "    mi = np.min(x)\n",
    "    ma = np.max(x)\n",
    "    for j in range(object_n):\n",
    "        if ma - mi == 0:\n",
    "            x[j] = 0.5\n",
    "        else:\n",
    "            x[j] = (x[j] - mi) / (ma - mi)\n",
    "\n",
    "X_train, X_test, y_train, y_test = train_test_split(X, y, test_size=0.5)\n",
    "print(X_train.shape, X_test.shape, y_train.shape, y_test.shape)\n",
    "svc = SVC(kernel='linear')"
   ],
   "metadata": {
    "collapsed": false,
    "pycharm": {
     "name": "#%%\n",
     "is_executing": false
    }
   }
  },
  {
   "cell_type": "code",
   "execution_count": 128,
   "outputs": [
    {
     "name": "stdout",
     "text": [
      "Optimal number of features : 55\n",
      "(280, 55)\n(280, 55) (240, 55) (240,)\n"
     ],
     "output_type": "stream"
    },
    {
     "data": {
      "text/plain": "<Figure size 432x288 with 1 Axes>",
      "image/png": "[encoded data removed]"
     },
     "metadata": {
      "needs_background": "light"
     },
     "output_type": "display_data"
    }
   ],
   "source": [
    "X_fe, rfecv_od = select_features(svc, X_train, y_train)\n",
    "X0_fe_od, X1_fe_od, X2_fe_od = remove_outliers(X_fe, y_train)\n",
    "X_fe_od = np.vstack([X0_fe_od, X1_fe_od, X2_fe_od])\n",
    "y_fe_od = np.hstack([\n",
    "    np.full(X0_fe_od.shape[0], 1),\n",
    "    np.full(X1_fe_od.shape[0], 2),\n",
    "    np.full(X2_fe_od.shape[0], 3)\n",
    "])\n",
    "print(X_fe.shape, X_fe_od.shape, y_fe_od.shape)"
   ],
   "metadata": {
    "collapsed": false,
    "pycharm": {
     "name": "#%%\n",
     "is_executing": false
    }
   }
  },
  {
   "cell_type": "code",
   "execution_count": 129,
   "outputs": [
    {
     "name": "stdout",
     "text": [
      "(235, 432) (235,)\n",
      "Optimal number of features : 21\n",
      "(235, 21)\n"
     ],
     "output_type": "stream"
    },
    {
     "data": {
      "text/plain": "<Figure size 432x288 with 1 Axes>",
      "image/png": "[encoded data removed]"
     },
     "metadata": {
      "needs_background": "light"
     },
     "output_type": "display_data"
    }
   ],
   "source": [
    "X0_od, X1_od, X2_od = remove_outliers(X_train, y_train)\n",
    "X_od = np.vstack([X0_od, X1_od, X2_od])\n",
    "y_od_fe = np.hstack([\n",
    "    np.full(X0_od.shape[0], 1), \n",
    "    np.full(X1_od.shape[0], 2), \n",
    "    np.full(X2_od.shape[0], 3)\n",
    "])\n",
    "\n",
    "print(X_od.shape, y_od_fe.shape)\n",
    "X_od_fe, od_rfecv = select_features(svc, X_od, y_od_fe)"
   ],
   "metadata": {
    "collapsed": false,
    "pycharm": {
     "name": "#%%\n",
     "is_executing": false
    }
   }
  },
  {
   "cell_type": "code",
   "execution_count": 130,
   "outputs": [
    {
     "name": "stdout",
     "text": [
      "0.8821428571428571\n"
     ],
     "output_type": "stream"
    }
   ],
   "source": [
    "#without fe and od\n",
    "svc.fit(X_train, y_train)\n",
    "y_pred = svc.predict(X_test)\n",
    "print(accuracy_score(y_test, y_pred))\n"
   ],
   "metadata": {
    "collapsed": false,
    "pycharm": {
     "name": "#%%\n",
     "is_executing": false
    }
   }
  },
  {
   "cell_type": "code",
   "execution_count": 131,
   "outputs": [
    {
     "name": "stdout",
     "text": [
      "0.8428571428571429\n"
     ],
     "output_type": "stream"
    }
   ],
   "source": [
    "# fe -> od\n",
    "svc.fit(X_fe_od, y_fe_od)\n",
    "y_fe_od_pred = svc.predict(X_test[:, rfecv_od.ranking_ == 1])\n",
    "print(accuracy_score(y_test, y_fe_od_pred))"
   ],
   "metadata": {
    "collapsed": false,
    "pycharm": {
     "name": "#%%\n",
     "is_executing": false
    }
   }
  },
  {
   "cell_type": "code",
   "execution_count": 132,
   "outputs": [
    {
     "name": "stdout",
     "text": [
      "0.85\n"
     ],
     "output_type": "stream"
    }
   ],
   "source": [
    "# od -> fe\n",
    "svc.fit(X_od_fe, y_od_fe)\n",
    "y_od_fe_pred = svc.predict(X_test[:, od_rfecv.ranking_ == 1])\n",
    "print(accuracy_score(y_test, y_od_fe_pred))\n"
   ],
   "metadata": {
    "collapsed": false,
    "pycharm": {
     "name": "#%%\n",
     "is_executing": false
    }
   }
  },
  {
   "cell_type": "code",
   "execution_count": 133,
   "outputs": [],
   "source": [
    "# в RFECV используется SVC, который чувствителен к шумовым данным, \n",
    "# поэтому я считаю, что правильнее делать od->fe. Экспериментальные данные подтвердили эту теорию"
   ],
   "metadata": {
    "collapsed": false,
    "pycharm": {
     "name": "#%%\n",
     "is_executing": false
    }
   }
  },
  {
   "cell_type": "code",
   "execution_count": 134,
   "outputs": [
    {
     "name": "stdout",
     "text": [
      "0.7428571428571429\n0.7964285714285714\n0.8357142857142857\n"
     ],
     "output_type": "stream"
    }
   ],
   "source": [
    "from sklearn.neighbors import KNeighborsClassifier as KNN\n",
    "knn = KNN(metric='euclidean', n_neighbors=26)\n",
    "\n",
    "# неочищенные\n",
    "knn.fit(X_train, y_train)\n",
    "y_pred = knn.predict(X_test)\n",
    "print(accuracy_score(y_test, y_pred))\n",
    "\n",
    "# fe->od\n",
    "knn.fit(X_fe_od, y_fe_od)\n",
    "y_fe_od_pred = knn.predict(X_test[:, rfecv_od.ranking_ == 1])\n",
    "print(accuracy_score(y_test, y_fe_od_pred))\n",
    "\n",
    "#od->fe\n",
    "knn.fit(X_od_fe, y_od_fe)\n",
    "y_od_fe_pred = knn.predict(X_test[:, od_rfecv.ranking_ == 1])\n",
    "print(accuracy_score(y_test, y_od_fe_pred))"
   ],
   "metadata": {
    "collapsed": false,
    "pycharm": {
     "name": "#%%\n",
     "is_executing": false
    }
   }
  },
  {
   "cell_type": "code",
   "execution_count": 135,
   "outputs": [
    {
     "name": "stdout",
     "text": [
      "0.9392857142857143\n0.8107142857142857\n0.875\n"
     ],
     "output_type": "stream"
    }
   ],
   "source": [
    "from sklearn.tree import DecisionTreeClassifier\n",
    "dt = DecisionTreeClassifier(criterion='entropy', max_depth=3)\n",
    "\n",
    "# неочищенные\n",
    "dt.fit(X_train, y_train)\n",
    "y_pred = dt.predict(X_test)\n",
    "print(accuracy_score(y_test, y_pred))\n",
    "\n",
    "#fe->od\n",
    "dt.fit(X_fe_od, y_fe_od)\n",
    "y_fe_od_pred = dt.predict(X_test[:, rfecv_od.ranking_ == 1])\n",
    "print(accuracy_score(y_test, y_fe_od_pred))\n",
    "\n",
    "#od->fe\n",
    "dt.fit(X_od_fe, y_od_fe)\n",
    "y_od_fe_pred = dt.predict(X_test[:, od_rfecv.ranking_ == 1])\n",
    "print(accuracy_score(y_test, y_od_fe_pred))"
   ],
   "metadata": {
    "collapsed": false,
    "pycharm": {
     "name": "#%%\n",
     "is_executing": false
    }
   }
  },
  {
   "cell_type": "code",
   "execution_count": 136,
   "outputs": [
    {
     "name": "stdout",
     "text": [
      "0.8821428571428571\n0.8428571428571429\n0.8607142857142858\n"
     ],
     "output_type": "stream"
    }
   ],
   "source": [
    "svc = SVC(kernel='poly')\n",
    "# неочищенные\n",
    "svc.fit(X_train, y_train)\n",
    "y_pred = svc.predict(X_test)\n",
    "print(accuracy_score(y_test, y_pred))\n",
    "\n",
    "#fe->od\n",
    "svc.fit(X_fe_od, y_fe_od)\n",
    "y_fe_od_pred = svc.predict(X_test[:, rfecv_od.ranking_ == 1])\n",
    "print(accuracy_score(y_test, y_fe_od_pred))\n",
    "\n",
    "#od->fe\n",
    "svc.fit(X_od_fe, y_od_fe)\n",
    "y_od_fe_pred = svc.predict(X_test[:, od_rfecv.ranking_ == 1])\n",
    "print(accuracy_score(y_test, y_od_fe_pred))"
   ],
   "metadata": {
    "collapsed": false,
    "pycharm": {
     "name": "#%%\n",
     "is_executing": false
    }
   }
  },
  {
   "cell_type": "code",
   "execution_count": 137,
   "outputs": [],
   "source": [
    "# Для работы с неочищенными данными лучше всего пригоден DT\n",
    "# На очищенных данных лучше других снова стал DT, однако в среднем лучше себя показал SVC,\n",
    "# т.к. большое количество признаков не является проблемой для SVC \n",
    "# и, как следствие, он показывает лучшие усредненные результаты после работы fe"
   ],
   "metadata": {
    "collapsed": false,
    "pycharm": {
     "name": "#%%\n",
     "is_executing": false
    }
   }
  }
 ],
 "metadata": {
  "language_info": {
   "codemirror_mode": {
    "name": "ipython",
    "version": 2
   },
   "file_extension": ".py",
   "mimetype": "text/x-python",
   "name": "python",
   "nbconvert_exporter": "python",
   "pygments_lexer": "ipython2",
   "version": "2.7.6"
  },
  "kernelspec": {
   "name": "python3",
   "language": "python",
   "display_name": "Python 3"
  },
  "pycharm": {
   "stem_cell": {
    "cell_type": "raw",
    "source": [],
    "metadata": {
     "collapsed": false
    }
   }
  }
 },
 "nbformat": 4,
 "nbformat_minor": 0
}